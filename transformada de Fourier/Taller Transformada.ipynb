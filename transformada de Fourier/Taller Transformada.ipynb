{
 "cells": [
  {
   "cell_type": "markdown",
   "metadata": {},
   "source": [
    "# Taller Tranformadas de Fourier con sympy de Python"
   ]
  },
  {
   "cell_type": "markdown",
   "metadata": {},
   "source": [
    "![](tabla2.png)"
   ]
  },
  {
   "cell_type": "code",
   "execution_count": 1,
   "metadata": {},
   "outputs": [],
   "source": [
    "# Librerias numpy y sympy para la logica matematica,\n",
    "# matplotlib para graficar\n",
    "import numpy as np\n",
    "import matplotlib.pyplot as plt\n",
    "import sympy as sym\n",
    "\n",
    "%matplotlib inline\n",
    "plt.style.use('bmh') # estilo de las graficas\n",
    "from IPython.display import Latex # para visualizar ecuaciones en jupyter"
   ]
  },
  {
   "cell_type": "code",
   "execution_count": 2,
   "metadata": {},
   "outputs": [],
   "source": [
    "sym.init_printing()\n",
    "\n",
    "#variables globales\n",
    "t, w = sym.symbols('t omega', real=True)\n",
    "w0 = sym.symbols('omega_0', real= True)\n",
    "T = 2\n",
    "\n",
    "#funcion principal para transfromadas de fourier con sympy\n",
    "def fourier_transform(x):\n",
    "    return sym.transforms._fourier_transform(x, t, w, 1, -1, 'Fourier')"
   ]
  },
  {
   "cell_type": "markdown",
   "metadata": {},
   "source": [
    "### 1. Transformada de Fourier Exponencial decreciente\n",
    "\n",
    "$\\large f(t) = e^{-at} \\mu (t)$\n",
    "\n",
    "para $a = 1$"
   ]
  },
  {
   "cell_type": "code",
   "execution_count": null,
   "metadata": {
    "scrolled": true
   },
   "outputs": [],
   "source": [
    "a = sym.exp(-t)*sym.Heaviside(t)\n",
    "sym.plot(a, (t, -1, 6), xlabel=r'$t$', ylabel=r'$f(t)$')"
   ]
  },
  {
   "cell_type": "code",
   "execution_count": null,
   "metadata": {},
   "outputs": [],
   "source": [
    "FW = fourier_transform(sym.exp(-t)*sym.Heaviside(t))\n",
    "FW"
   ]
  },
  {
   "cell_type": "code",
   "execution_count": null,
   "metadata": {},
   "outputs": [],
   "source": [
    "sym.plot(sym.Abs(FW), (w, -30, 30), xlabel=r'$\\omega$', ylabel=r'$|X(j\\omega)|$')"
   ]
  },
  {
   "cell_type": "code",
   "execution_count": null,
   "metadata": {},
   "outputs": [],
   "source": [
    "sym.plot(sym.arg(FW), (w, -30, 30), xlabel=r'$\\omega$', ylabel=r'$\\angle X(j\\omega)$')"
   ]
  },
  {
   "cell_type": "markdown",
   "metadata": {},
   "source": [
    "### 2. Transformada de Fourier Exponencial decreciente\n",
    "\n",
    "$\\large f(t) = te^{-at} \\mu (t)$\n",
    "\n",
    "para $a = 1$"
   ]
  },
  {
   "cell_type": "code",
   "execution_count": null,
   "metadata": {
    "scrolled": true
   },
   "outputs": [],
   "source": [
    "a = t*sym.exp(-t)*sym.Heaviside(t)\n",
    "sym.plot(a, (t, -1, 6), xlabel=r'$t$', ylabel=r'$f(t)$')"
   ]
  },
  {
   "cell_type": "code",
   "execution_count": null,
   "metadata": {},
   "outputs": [],
   "source": [
    "FW2 = fourier_transform(t*sym.exp(-t)*sym.Heaviside(t))\n",
    "FW2"
   ]
  },
  {
   "cell_type": "code",
   "execution_count": null,
   "metadata": {},
   "outputs": [],
   "source": [
    "sym.plot(sym.Abs(FW2), (w, -30, 30), xlabel=r'$\\omega$', ylabel=r'$|X(j\\omega)|$')"
   ]
  },
  {
   "cell_type": "code",
   "execution_count": null,
   "metadata": {
    "scrolled": true
   },
   "outputs": [],
   "source": [
    "sym.plot(sym.arg(FW2), (w, -30, 30), xlabel=r'$\\omega$', ylabel=r'$\\angle X(j\\omega)$')"
   ]
  },
  {
   "cell_type": "markdown",
   "metadata": {},
   "source": [
    "### 3. Transformada de Fourier\n",
    "\n",
    "$\\large f(t) = |t|$\n",
    "\n",
    "para $a = 1$"
   ]
  },
  {
   "cell_type": "code",
   "execution_count": null,
   "metadata": {},
   "outputs": [],
   "source": [
    "a = sym.Abs(t)\n",
    "sym.plot(a, (t, -6, 6), xlabel=r'$t$', ylabel=r'$f(t)$')"
   ]
  },
  {
   "cell_type": "code",
   "execution_count": null,
   "metadata": {},
   "outputs": [],
   "source": [
    "FW3 = fourier_transform(sym.Abs(t))\n",
    "FW3"
   ]
  },
  {
   "cell_type": "markdown",
   "metadata": {},
   "source": [
    "### 4. Transformada de Fourier: Impulso de Dirac\n",
    "\n",
    "La transformación  $\\mathcal{F} \\{ \\delta(t) \\}$ del impulso de Dirac se deriva al introducir $\\delta(t)$ en La definición de la transformada de Fourier y la explotación de la propiedad de integracion de la función delta de Dirac.\n",
    "\n",
    "$$\n",
    "\\mathcal{F} \\{ \\delta(t) \\} = \\int_{-\\infty}^{\\infty} \\delta(t) \\, e^{-j \\omega t} dt = 1\n",
    "$$"
   ]
  },
  {
   "cell_type": "code",
   "execution_count": null,
   "metadata": {
    "scrolled": false
   },
   "outputs": [],
   "source": [
    "t, w = sym.symbols('t omega', real=True)\n",
    "\n",
    "FW = sym.integrate(sym.DiracDelta(t)*sym.exp(-sym.I*w*t), (t, -sym.oo, sym.oo))\n",
    "FW"
   ]
  },
  {
   "cell_type": "markdown",
   "metadata": {},
   "source": [
    "### 5. \n",
    "\n",
    "$\\large f(t) = 1$"
   ]
  },
  {
   "cell_type": "markdown",
   "metadata": {},
   "source": [
    "### 6. Transformada de Fourier Función paso\n",
    "\n",
    "$\\large f(t) = \\mu (t)$"
   ]
  },
  {
   "cell_type": "code",
   "execution_count": null,
   "metadata": {},
   "outputs": [],
   "source": [
    "a = sym.Heaviside(t)\n",
    "sym.plot(a, (t, -1, 6), xlabel=r'$t$', ylabel=r'$f(t)$')"
   ]
  },
  {
   "cell_type": "code",
   "execution_count": null,
   "metadata": {},
   "outputs": [],
   "source": [
    "t, w = sym.symbols('t omega', real=True)\n",
    "\n",
    "FW = sym.integrate(sym.Heaviside(t)*sym.exp(-sym.I*w*t), (t, -sym.oo, sym.oo))\n",
    "FW"
   ]
  },
  {
   "cell_type": "code",
   "execution_count": null,
   "metadata": {},
   "outputs": [],
   "source": [
    "FW = fourier_transform(sym.Heaviside(t))\n",
    "FW"
   ]
  },
  {
   "cell_type": "code",
   "execution_count": null,
   "metadata": {},
   "outputs": [],
   "source": [
    "sym.plot(sym.Abs(FW), (w, -40, 40), xlabel=r'$\\omega$', ylabel=r'$|X(j\\omega)|$')"
   ]
  },
  {
   "cell_type": "markdown",
   "metadata": {},
   "source": [
    "# 7. Transformada de Fourier \n",
    "\n",
    "$\\large f(t) = \\cos{\\omega_0 t} \\mu (t)$\n",
    "\n",
    "para $a = 1$"
   ]
  },
  {
   "cell_type": "code",
   "execution_count": null,
   "metadata": {},
   "outputs": [],
   "source": [
    "a = sym.cos((sym.pi*2/T)*t)*sym.Heaviside(t)\n",
    "sym.plot(a, (t, -1, 6), xlabel=r'$t$', ylabel=r'$f(t)$')"
   ]
  },
  {
   "cell_type": "code",
   "execution_count": null,
   "metadata": {},
   "outputs": [],
   "source": [
    "FW = fourier_transform(sym.cos((sym.pi*2/T)*t)*sym.Heaviside(t))\n",
    "FW"
   ]
  },
  {
   "cell_type": "code",
   "execution_count": null,
   "metadata": {
    "scrolled": false
   },
   "outputs": [],
   "source": [
    "sym.plot(sym.Abs(FW), (w, -10, 10), xlabel=r'$\\omega$', ylabel=r'$|X(j\\omega)|$')"
   ]
  },
  {
   "cell_type": "code",
   "execution_count": null,
   "metadata": {},
   "outputs": [],
   "source": [
    "sym.plot(sym.arg(FW), (w, -30, 30), xlabel=r'$\\omega$', ylabel=r'$\\angle X(j\\omega)$')"
   ]
  },
  {
   "cell_type": "code",
   "execution_count": null,
   "metadata": {},
   "outputs": [],
   "source": [
    "FW = fourier_transform(sym.cos(w0*t)*sym.Heaviside(t))\n",
    "FW"
   ]
  },
  {
   "cell_type": "markdown",
   "metadata": {},
   "source": [
    "# 8. Transformada de Fourier \n",
    "\n",
    "$\\large f(t) = \\sin{\\omega_0 t} \\mu (t)$\n",
    "\n",
    "para $a = 1$"
   ]
  },
  {
   "cell_type": "code",
   "execution_count": null,
   "metadata": {},
   "outputs": [],
   "source": [
    "a = sym.sin((sym.pi*2/T)*t)*sym.Heaviside(t)\n",
    "sym.plot(a, (t, -1, 6), xlabel=r'$t$', ylabel=r'$f(t)$')"
   ]
  },
  {
   "cell_type": "code",
   "execution_count": null,
   "metadata": {},
   "outputs": [],
   "source": [
    "FW = fourier_transform(sym.sin((sym.pi*2/T)*t)*sym.Heaviside(t))\n",
    "FW"
   ]
  },
  {
   "cell_type": "code",
   "execution_count": null,
   "metadata": {},
   "outputs": [],
   "source": [
    "FW = fourier_transform(sym.sin(w0*t)*sym.Heaviside(t))\n",
    "FW"
   ]
  },
  {
   "cell_type": "markdown",
   "metadata": {},
   "source": [
    "# 9. Transformada de Fourier \n",
    "\n",
    "$\\large f(t) = \\cos{\\omega_0 t}$\n",
    "\n",
    "para $a = 1$"
   ]
  },
  {
   "cell_type": "code",
   "execution_count": null,
   "metadata": {},
   "outputs": [],
   "source": [
    "a = sym.cos((sym.pi*2/T)*t)\n",
    "sym.plot(a, (t, -1, 6), xlabel=r'$t$', ylabel=r'$f(t)$')"
   ]
  },
  {
   "cell_type": "code",
   "execution_count": null,
   "metadata": {},
   "outputs": [],
   "source": [
    "FW = fourier_transform(sym.cos((sym.pi*2/T)*t))\n",
    "FW"
   ]
  },
  {
   "cell_type": "code",
   "execution_count": null,
   "metadata": {},
   "outputs": [],
   "source": [
    "FW = fourier_transform(sym.cos(w0*t))\n",
    "FW"
   ]
  },
  {
   "cell_type": "markdown",
   "metadata": {},
   "source": [
    "# 10. Transformada de Fourier \n",
    "\n",
    "$\\large f(t) = \\sin{\\omega_0 t}$\n",
    "\n",
    "para $a = 1$"
   ]
  },
  {
   "cell_type": "code",
   "execution_count": null,
   "metadata": {},
   "outputs": [],
   "source": [
    "a = sym.sin((sym.pi*2/T)*t)\n",
    "sym.plot(a, (t, -1, 6), xlabel=r'$t$', ylabel=r'$f(t)$')"
   ]
  },
  {
   "cell_type": "code",
   "execution_count": null,
   "metadata": {},
   "outputs": [],
   "source": [
    "FW = fourier_transform(sym.sin(w0*t))\n",
    "FW"
   ]
  },
  {
   "cell_type": "markdown",
   "metadata": {},
   "source": [
    "### 11. Transformada de Fourier \n",
    "\n",
    "$\\large f(t) = e^{-at} \\sin{\\omega_0 t} \\mu(t)$\n",
    "\n",
    "para $a = 1$"
   ]
  },
  {
   "cell_type": "code",
   "execution_count": null,
   "metadata": {},
   "outputs": [],
   "source": [
    "a = sym.exp(-t) * sym.sin((sym.pi*2/T) * t) * sym.Heaviside(t) \n",
    "sym.plot(a, (t, -2, 10), xlabel=r'$t$', ylabel=r'$f(t)$')"
   ]
  },
  {
   "cell_type": "code",
   "execution_count": null,
   "metadata": {},
   "outputs": [],
   "source": [
    "FW = fourier_transform(sym.exp(-t) * sym.sin((sym.pi*2/T) * t) * sym.Heaviside(t))\n",
    "FW"
   ]
  },
  {
   "cell_type": "code",
   "execution_count": null,
   "metadata": {},
   "outputs": [],
   "source": [
    "FW = fourier_transform(sym.sin(t) * sym.exp(-t) * sym.Heaviside(t))\n",
    "FW"
   ]
  },
  {
   "cell_type": "markdown",
   "metadata": {},
   "source": [
    "### 12. Transformada de Fourier Sa\n",
    "\n",
    "$\\large f(t) = \\frac{W}{2\\pi} Sa \\frac{(Wt)}{2}$\n",
    "\n",
    "W = 1"
   ]
  },
  {
   "cell_type": "code",
   "execution_count": null,
   "metadata": {},
   "outputs": [],
   "source": [
    "display(Latex(r'$f(t) = \\frac{W Sa (\\frac{Wt}{2})}{2 \\pi}$'))\n",
    "a = sym.sinc(t/2) / (2*sym.pi)\n",
    "sym.plot(a, (t, -30, 30), xlabel='t', ylabel=r'f(t)')"
   ]
  },
  {
   "cell_type": "code",
   "execution_count": null,
   "metadata": {},
   "outputs": [],
   "source": [
    "FW = fourier_transform(sym.sinc(t/2) / (2*sym.pi))\n",
    "FW"
   ]
  },
  {
   "cell_type": "code",
   "execution_count": null,
   "metadata": {},
   "outputs": [],
   "source": [
    "sym.plot(FW, (w, -1, 1), xlabel=r'$\\omega$', ylabel=r'F($\\omega$)')"
   ]
  },
  {
   "cell_type": "markdown",
   "metadata": {},
   "source": [
    "### 13. Transformada de Fourier de un Pulso Rectangular (Gate)\n",
    "\n",
    "\n",
    "La transformación de Fourier $ \\mathcal{F} \\{\\text{rect}(t) \\}$ de la señal rectangular se obtiene mediante la evaluación explícita de la definición.\n",
    "\n",
    "\\begin{equation}\n",
    "\\mathcal{F} \\{ \\text{rect}(t) \\} = \\int_{-\\infty}^{\\infty} \\text{rect}(t) \\, e^{-j \\omega t} \\; dt =\n",
    "\\int_{- \\frac{1}{2}}^{\\frac{1}{2}} e^{-j \\omega t} \\; dt = \\frac{\\sin(\\frac{\\omega}{2})}{\\frac{\\omega}{2}}\n",
    "\\end{equation}\n",
    "\n",
    "El resultado se abrevia comúnmente en términos de [función sinc](https://en.wikipedia.org/wiki/Sinc_function)\n",
    "\n",
    "\\begin{equation}\n",
    "\\text{sinc}(x) = \\begin{cases} \n",
    "\\frac{sin(x)}{x} & \\text{for } x \\neq 0 \\\\\n",
    "1 & \\text{for } x = 0\n",
    "\\end{cases}\n",
    "\\end{equation}"
   ]
  },
  {
   "cell_type": "code",
   "execution_count": 37,
   "metadata": {},
   "outputs": [],
   "source": [
    "class rect(sym.Function):\n",
    "\n",
    "    @classmethod\n",
    "    def eval(cls, arg):\n",
    "        return sym.Heaviside(arg + sym.S.Half) - sym.Heaviside(arg - sym.S.Half)"
   ]
  },
  {
   "cell_type": "code",
   "execution_count": null,
   "metadata": {},
   "outputs": [],
   "source": [
    "print(\"Ancho del pulso desde cero = 0.5\")\n",
    "display(Latex('$f(t) = \\mu (t+0.5) - \\mu (t-0.5)$'))\n",
    "sym.plot(rect(t), (t, -3, 3), xlabel=r'$t$', ylabel=r'$f(t)$');"
   ]
  },
  {
   "cell_type": "code",
   "execution_count": null,
   "metadata": {
    "scrolled": true
   },
   "outputs": [],
   "source": [
    "print('La transformada de Fourier de f(t) sera:')\n",
    "FW = fourier_transform(rect(t))\n",
    "FW"
   ]
  },
  {
   "cell_type": "code",
   "execution_count": null,
   "metadata": {},
   "outputs": [],
   "source": [
    "sym.plot(FW, (w, -30, 30), xlabel=r'$\\omega$', ylabel=r'sinc($\\omega / 2$)')"
   ]
  },
  {
   "cell_type": "markdown",
   "metadata": {},
   "source": [
    "### 14. Transformada de Fourier Triangulo\n",
    "\n",
    "$ \\large f(t) = \\left\\{\n",
    "\\begin{array}{ll}\n",
    "    1 - \\frac{|t|}{\\tau} & |t| < \\tau \\\\\n",
    "    0 & |t| > \\tau \\\\\n",
    "\\end{array}\n",
    "\\right.$\n",
    "\n",
    "$\\tau = 1$"
   ]
  },
  {
   "cell_type": "code",
   "execution_count": null,
   "metadata": {},
   "outputs": [],
   "source": [
    "a = sym.Piecewise((0, t < -1), (t + 1, t < 0), (1 - t, t < 1), (0, True))\n",
    "sym.plot(a, (t, -2, 2), xlabel=r'$t$', ylabel=r'$f(t)$');"
   ]
  },
  {
   "cell_type": "code",
   "execution_count": null,
   "metadata": {},
   "outputs": [],
   "source": [
    "print('La transformada de Fourier de f(t) sera:')\n",
    "t, w = sym.symbols('t omega', real=True)\n",
    "\n",
    "FW = fourier_transform(sym.Piecewise((0, t < -1), (t + 1, t < 0), (1 - t, t < 1), (0, True)))\n",
    "FW"
   ]
  },
  {
   "cell_type": "markdown",
   "metadata": {},
   "source": [
    "### 15. Transformada de Fourier \n",
    "\n",
    "$\\large f(t) = e^{-a|t|} $\n",
    "\n",
    "para $a = 1$"
   ]
  },
  {
   "cell_type": "code",
   "execution_count": null,
   "metadata": {
    "scrolled": true
   },
   "outputs": [],
   "source": [
    "a = sym.exp(abs(t)) \n",
    "sym.plot(a, (t, -10, 10), xlabel=r'$t$', ylabel=r'$f(t)$')"
   ]
  },
  {
   "cell_type": "code",
   "execution_count": null,
   "metadata": {},
   "outputs": [],
   "source": [
    "FW = fourier_transform(sym.exp(-1*sym.Abs(t)))\n",
    "FW"
   ]
  },
  {
   "cell_type": "markdown",
   "metadata": {},
   "source": [
    "### 16. Transformada de Fourier Exponencial cuadratica decreciente\n",
    "\n",
    "$\\large f(t) = e^{\\frac{-t^2}{2\\sigma^2}}$\n",
    "\n",
    "para $\\sigma = 1$"
   ]
  },
  {
   "cell_type": "code",
   "execution_count": null,
   "metadata": {},
   "outputs": [],
   "source": [
    "a = sym.exp((-t**2)/2)\n",
    "sym.plot(a, (t, -5, 5), xlabel=r'$t$', ylabel=r'$f(t)$');"
   ]
  },
  {
   "cell_type": "code",
   "execution_count": null,
   "metadata": {},
   "outputs": [],
   "source": [
    "print('La transformada de Fourier de f(t) sera:')\n",
    "FW = fourier_transform(sym.exp((-t**2)/2))\n",
    "FW"
   ]
  },
  {
   "cell_type": "code",
   "execution_count": null,
   "metadata": {},
   "outputs": [],
   "source": [
    "sym.plot(FW, (w, -5, 5), xlabel=r'$\\omega$', ylabel=r'F($\\omega$)')"
   ]
  },
  {
   "cell_type": "markdown",
   "metadata": {},
   "source": [
    "### 17. Transformada de Fourier Deltas periódicos\n",
    "\n",
    "$\\large f(t) = \\delta_T(t)$\n",
    "\n",
    "para T = 1"
   ]
  },
  {
   "cell_type": "code",
   "execution_count": null,
   "metadata": {},
   "outputs": [],
   "source": [
    "mu = sym.symbols('mu', integer=True)\n",
    "t = sym.symbols('t', real=True)\n",
    "T = 1\n",
    "\n",
    "def dirac_train(T):\n",
    "    n = sym.symbols('n', integer=True)\n",
    "    x0 = sym.DiracDelta(t)\n",
    "    return sym.summation(x0.subs(t, t+n*T), (n, -10, 10))\n",
    "\n",
    "print(f\"Periodo = {T}\")\n",
    "import warnings\n",
    "warnings.filterwarnings(\"ignore\", module=\"sympy.plot\")\n",
    "ff = dirac_train(T)\n",
    "ff"
   ]
  },
  {
   "cell_type": "code",
   "execution_count": null,
   "metadata": {},
   "outputs": [],
   "source": [
    "print('La transformada de Fourier de f(t) sera:')\n",
    "FW = fourier_transform(dirac_train(T))\n",
    "FW"
   ]
  },
  {
   "cell_type": "markdown",
   "metadata": {},
   "source": [
    " "
   ]
  },
  {
   "cell_type": "markdown",
   "metadata": {},
   "source": [
    "## Transformada Inversa de Fourier de una señal Sinc(x)"
   ]
  },
  {
   "cell_type": "code",
   "execution_count": 50,
   "metadata": {},
   "outputs": [],
   "source": [
    "def inverse_fourier_transform(X):\n",
    "    return sym.transforms._fourier_transform(X, w, t, 1/(2*sym.pi), 1, 'Inverse Fourier')"
   ]
  },
  {
   "cell_type": "code",
   "execution_count": null,
   "metadata": {},
   "outputs": [],
   "source": [
    "t, w = sym.symbols('t omega')\n",
    "display(Latex(r'$F(\\omega) = \\frac{2 \\sin (\\frac{\\omega}{2})}{\\omega}$'))\n",
    "FW = sym.sinc(w/2)\n",
    "sym.plot(FW, (w, -30, 30), xlabel=r'$\\omega$', ylabel=r'sinc($\\omega / 2$)')"
   ]
  },
  {
   "cell_type": "code",
   "execution_count": null,
   "metadata": {
    "scrolled": true
   },
   "outputs": [],
   "source": [
    "fx = inverse_fourier_transform(FW)\n",
    "fx"
   ]
  },
  {
   "cell_type": "code",
   "execution_count": null,
   "metadata": {},
   "outputs": [],
   "source": [
    "sym.plot(fx, (t,-1,1), ylabel=r'$f(t)$');"
   ]
  },
  {
   "cell_type": "markdown",
   "metadata": {},
   "source": [
    "# Transformada de Fourier para Señales Periodicas"
   ]
  },
  {
   "cell_type": "code",
   "execution_count": null,
   "metadata": {},
   "outputs": [],
   "source": [
    "mu = sym.symbols('mu', integer=True)\n",
    "t = sym.symbols('t', real=True)\n",
    "T = 2\n",
    "Tp = 5\n",
    "\n",
    "def pulse_train(T, Tp):\n",
    "    n = sym.symbols('n', integer=True)\n",
    "    x0 = sym.Piecewise((0, t < 0), (1, t < T), (0, True))\n",
    "    return sym.summation(x0.subs(t, t+n*Tp), (n, -10, 10))\n",
    "\n",
    "print(f\"Periodo = {Tp}\")\n",
    "print(f\"Ancho del pulso = {T}\")\n",
    "import warnings\n",
    "warnings.filterwarnings(\"ignore\", module=\"sympy.plot\")\n",
    "sym.plot(pulse_train(T, Tp), (t, -5, 20), xlabel='$t$', ylabel='$f(t)$', adaptive=False)"
   ]
  },
  {
   "cell_type": "code",
   "execution_count": null,
   "metadata": {},
   "outputs": [],
   "source": [
    "X_mu = sym.exp(-sym.I * mu * sym.pi * T/Tp) * T * sym.sinc(mu * sym.pi * T/Tp)\n",
    "X_mu"
   ]
  },
  {
   "cell_type": "code",
   "execution_count": null,
   "metadata": {},
   "outputs": [],
   "source": [
    "Fn = sym.lambdify(mu, sym.Abs(X_mu), 'numpy')\n",
    "\n",
    "n = np.arange(-15, 15)\n",
    "plt.stem(n*2*np.pi/Tp, Fn(n))\n",
    "plt.xlabel('$\\omega$')\n",
    "plt.ylabel('$|F(\\omega)|$');"
   ]
  },
  {
   "cell_type": "markdown",
   "metadata": {},
   "source": [
    "## Ejercicios\n",
    "- Transformada de Fourier de $f(t) = \\sin(\\omega_0 t)$\n",
    "- Transformada de Fourier de $f(t) = \\cos(\\omega_0 t)$\n",
    "- Si $f(t) = \\sum_{k = -\\infty}^{\\infty} \\delta (t - KT)$"
   ]
  }
 ],
 "metadata": {
  "kernelspec": {
   "display_name": "Python 3",
   "language": "python",
   "name": "python3"
  },
  "language_info": {
   "codemirror_mode": {
    "name": "ipython",
    "version": 3
   },
   "file_extension": ".py",
   "mimetype": "text/x-python",
   "name": "python",
   "nbconvert_exporter": "python",
   "pygments_lexer": "ipython3",
   "version": "3.7.3"
  }
 },
 "nbformat": 4,
 "nbformat_minor": 4
}
